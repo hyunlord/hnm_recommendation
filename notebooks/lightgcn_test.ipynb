{
 "cells": [
  {
   "cell_type": "markdown",
   "metadata": {},
   "source": [
    "# LightGCN Test Notebook"
   ]
  },
  {
   "cell_type": "markdown",
   "metadata": {},
   "source": [
    "## 1. Setup"
   ]
  },
  {
   "cell_type": "code",
   "execution_count": null,
   "metadata": {},
   "outputs": [],
   "source": [
    "import sys\n",
    "sys.path.append('../src')\n",
    "\n",
    "import pandas as pd\n",
    "import numpy as np\n",
    "import torch\n",
    "import pytorch_lightning as pl\n",
    "from data import HnMLightningDataModule\n",
    "from models import LightGCN_PL\n",
    "from tqdm.notebook import tqdm\n",
    "\n",
    "try:\n",
    "    import torch_geometric\n",
    "except ImportError:\n",
    "    print(\"Installing PyTorch Geometric...\")\n",
    "    !pip install torch-scatter torch-sparse torch-cluster torch-spline-conv torch-geometric -f https://data.pyg.org/whl/torch-2.0.0+cpu.html\n",
    "    import torch_geometric"
   ]
  },
  {
   "cell_type": "markdown",
   "metadata": {},
   "source": [
    "## 2. Load Data & Prepare for LightGCN"
   ]
  },
  {
   "cell_type": "code",
   "execution_count": null,
   "metadata": {},
   "outputs": [],
   "source": [
    "dm = HnMLightNnMLightningDataModule(data_dir='../data', batch_size=2048, num_workers=4)\n",
    "dm.setup()\n",
    "\n",
    "num_nodes = dm.num_users + dm.num_items\n",
    "print(f\"Number of users: {dm.num_users}, Number of items: {dm.num_items}, Total nodes: {num_nodes}\")\n",
    "print(f\"Edge index shape: {dm.edge_index.shape}\")"
   ]
  }
 ],
 "metadata": {
  "kernelspec": {
   "display_name": "Python 3",
   "language": "python",
   "name": "python3"
  },
  "language_info": {
   "codemirror_mode": {
    "name": "ipython",
    "version": 3
   },
   "file_extension": ".py",
   "mimetype": "text/x-python",
   "name": "python",
   "nbconvert_exporter": "python",
   "pygments_lexer": "ipython3",
   "version": "3.9.7"
  }
 },
 "nbformat": 4,
 "nbformat_minor": 4
}